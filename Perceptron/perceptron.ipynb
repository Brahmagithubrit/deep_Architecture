{
 "cells": [
  {
   "cell_type": "code",
   "execution_count": 1,
   "id": "92170189",
   "metadata": {},
   "outputs": [],
   "source": [
    "import numpy  as np "
   ]
  },
  {
   "cell_type": "code",
   "execution_count": 12,
   "id": "260e3d18",
   "metadata": {},
   "outputs": [],
   "source": [
    "X = np.array([[0,0] , [0,1] , [1,0] , [1,1]])\n",
    "y = np.array ([0,0,0,1])\n",
    "weight = np.zeros(X.shape[1])  #intially wiehgt matrix lookslike this  [0.0,0.0,0.0,0.0]\n",
    "bias = 0 \n",
    "learningRate = 0.1\n",
    "epoch = 20 \n"
   ]
  },
  {
   "cell_type": "code",
   "execution_count": null,
   "id": "700c2e0e",
   "metadata": {},
   "outputs": [
    {
     "name": "stdout",
     "output_type": "stream",
     "text": [
      "weight = [0. 0.] , bias = -0.1\n",
      "weight = [0. 0.] , bias = -0.1\n",
      "weight = [0. 0.] , bias = -0.1\n",
      "weight = [0.1 0.1] , bias = 0.0\n",
      "weight = [0.1 0.1] , bias = -0.1\n",
      "weight = [0.1 0. ] , bias = -0.2\n",
      "weight = [0.1 0. ] , bias = -0.2\n",
      "weight = [0.2 0.1] , bias = -0.1\n",
      "weight = [0.2 0.1] , bias = -0.1\n",
      "weight = [0.2 0. ] , bias = -0.2\n",
      "weight = [0.1 0. ] , bias = -0.30000000000000004\n",
      "weight = [0.2 0.1] , bias = -0.20000000000000004\n",
      "weight = [0.2 0.1] , bias = -0.20000000000000004\n",
      "weight = [0.2 0.1] , bias = -0.20000000000000004\n",
      "weight = [0.2 0.1] , bias = -0.20000000000000004\n",
      "weight = [0.2 0.1] , bias = -0.20000000000000004\n",
      "weight = [0.2 0.1] , bias = -0.20000000000000004\n",
      "weight = [0.2 0.1] , bias = -0.20000000000000004\n",
      "weight = [0.2 0.1] , bias = -0.20000000000000004\n",
      "weight = [0.2 0.1] , bias = -0.20000000000000004\n",
      "weight = [0.2 0.1] , bias = -0.20000000000000004\n",
      "weight = [0.2 0.1] , bias = -0.20000000000000004\n",
      "weight = [0.2 0.1] , bias = -0.20000000000000004\n",
      "weight = [0.2 0.1] , bias = -0.20000000000000004\n",
      "weight = [0.2 0.1] , bias = -0.20000000000000004\n",
      "weight = [0.2 0.1] , bias = -0.20000000000000004\n",
      "weight = [0.2 0.1] , bias = -0.20000000000000004\n",
      "weight = [0.2 0.1] , bias = -0.20000000000000004\n",
      "weight = [0.2 0.1] , bias = -0.20000000000000004\n",
      "weight = [0.2 0.1] , bias = -0.20000000000000004\n",
      "weight = [0.2 0.1] , bias = -0.20000000000000004\n",
      "weight = [0.2 0.1] , bias = -0.20000000000000004\n",
      "weight = [0.2 0.1] , bias = -0.20000000000000004\n",
      "weight = [0.2 0.1] , bias = -0.20000000000000004\n",
      "weight = [0.2 0.1] , bias = -0.20000000000000004\n",
      "weight = [0.2 0.1] , bias = -0.20000000000000004\n",
      "weight = [0.2 0.1] , bias = -0.20000000000000004\n",
      "weight = [0.2 0.1] , bias = -0.20000000000000004\n",
      "weight = [0.2 0.1] , bias = -0.20000000000000004\n",
      "weight = [0.2 0.1] , bias = -0.20000000000000004\n",
      "weight = [0.2 0.1] , bias = -0.20000000000000004\n",
      "weight = [0.2 0.1] , bias = -0.20000000000000004\n",
      "weight = [0.2 0.1] , bias = -0.20000000000000004\n",
      "weight = [0.2 0.1] , bias = -0.20000000000000004\n",
      "weight = [0.2 0.1] , bias = -0.20000000000000004\n",
      "weight = [0.2 0.1] , bias = -0.20000000000000004\n",
      "weight = [0.2 0.1] , bias = -0.20000000000000004\n",
      "weight = [0.2 0.1] , bias = -0.20000000000000004\n",
      "weight = [0.2 0.1] , bias = -0.20000000000000004\n",
      "weight = [0.2 0.1] , bias = -0.20000000000000004\n",
      "weight = [0.2 0.1] , bias = -0.20000000000000004\n",
      "weight = [0.2 0.1] , bias = -0.20000000000000004\n",
      "weight = [0.2 0.1] , bias = -0.20000000000000004\n",
      "weight = [0.2 0.1] , bias = -0.20000000000000004\n",
      "weight = [0.2 0.1] , bias = -0.20000000000000004\n",
      "weight = [0.2 0.1] , bias = -0.20000000000000004\n",
      "weight = [0.2 0.1] , bias = -0.20000000000000004\n",
      "weight = [0.2 0.1] , bias = -0.20000000000000004\n",
      "weight = [0.2 0.1] , bias = -0.20000000000000004\n",
      "weight = [0.2 0.1] , bias = -0.20000000000000004\n",
      "weight = [0.2 0.1] , bias = -0.20000000000000004\n",
      "weight = [0.2 0.1] , bias = -0.20000000000000004\n",
      "weight = [0.2 0.1] , bias = -0.20000000000000004\n",
      "weight = [0.2 0.1] , bias = -0.20000000000000004\n",
      "weight = [0.2 0.1] , bias = -0.20000000000000004\n",
      "weight = [0.2 0.1] , bias = -0.20000000000000004\n",
      "weight = [0.2 0.1] , bias = -0.20000000000000004\n",
      "weight = [0.2 0.1] , bias = -0.20000000000000004\n",
      "weight = [0.2 0.1] , bias = -0.20000000000000004\n",
      "weight = [0.2 0.1] , bias = -0.20000000000000004\n",
      "weight = [0.2 0.1] , bias = -0.20000000000000004\n",
      "weight = [0.2 0.1] , bias = -0.20000000000000004\n",
      "weight = [0.2 0.1] , bias = -0.20000000000000004\n",
      "weight = [0.2 0.1] , bias = -0.20000000000000004\n",
      "weight = [0.2 0.1] , bias = -0.20000000000000004\n",
      "weight = [0.2 0.1] , bias = -0.20000000000000004\n",
      "weight = [0.2 0.1] , bias = -0.20000000000000004\n",
      "weight = [0.2 0.1] , bias = -0.20000000000000004\n",
      "weight = [0.2 0.1] , bias = -0.20000000000000004\n",
      "weight = [0.2 0.1] , bias = -0.20000000000000004\n"
     ]
    }
   ],
   "source": [
    "# training and operator \n",
    "for i in range(epoch):\n",
    "    for j in range(len(X)):\n",
    "        val = np.dot (X[j] , weight) + bias\n",
    "        #it find the dot product between  0,0 first feature with weight matrix \n",
    "        if val >= 0 :\n",
    "            prediction = 1\n",
    "        else:  prediction = 0\n",
    "        \n",
    "        error = y[j] - prediction\n",
    "        weight += learningRate * error * X[j]\n",
    "        bias += learningRate * error\n",
    "        print(f\"weight = {weight} , bias = {bias}\")"
   ]
  },
  {
   "cell_type": "code",
   "execution_count": 16,
   "id": "46debaec",
   "metadata": {},
   "outputs": [
    {
     "name": "stdout",
     "output_type": "stream",
     "text": [
      "x[i] =>  0\n",
      "x[i] =>  0\n",
      "x[i] =>  0\n",
      "x[i] =>  1\n"
     ]
    }
   ],
   "source": [
    "# testing \n",
    "for i in range (len(X)):\n",
    "    val = np.dot (weight , X[i]) + bias \n",
    "    if val >= 0 :\n",
    "        prediction = 1\n",
    "    else : prediction =0\n",
    "\n",
    "    print(f\"x[i] =>  {prediction}\")"
   ]
  },
  {
   "cell_type": "code",
   "execution_count": null,
   "id": "476d3b7a",
   "metadata": {},
   "outputs": [],
   "source": []
  }
 ],
 "metadata": {
  "kernelspec": {
   "display_name": "Python 3",
   "language": "python",
   "name": "python3"
  },
  "language_info": {
   "codemirror_mode": {
    "name": "ipython",
    "version": 3
   },
   "file_extension": ".py",
   "mimetype": "text/x-python",
   "name": "python",
   "nbconvert_exporter": "python",
   "pygments_lexer": "ipython3",
   "version": "3.13.5"
  }
 },
 "nbformat": 4,
 "nbformat_minor": 5
}
