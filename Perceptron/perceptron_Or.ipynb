{
 "cells": [
  {
   "cell_type": "markdown",
   "id": "4e230bc2",
   "metadata": {},
   "source": [
    "Perceptron Or operation prediction"
   ]
  },
  {
   "cell_type": "code",
   "execution_count": 37,
   "id": "3e0e6e9e",
   "metadata": {},
   "outputs": [],
   "source": [
    "import numpy as np \n",
    "\n",
    "x = np.array([[0,0],[0,1],[1,0],[1,1]])\n",
    "y = np.array ([0 , 1 , 1 , 1])\n",
    "\n",
    "# initialisation\n",
    "weight = np.zeros (x.shape[1])\n",
    "bias = 0\n",
    "learningRate = 0.1\n",
    "epoch = 3 # MIN 3 TIMES ITERATION REQUIRED TO TRAIN WHERE LEARNING RATE IS 0.1\n"
   ]
  },
  {
   "cell_type": "code",
   "execution_count": 38,
   "id": "0e92191e",
   "metadata": {},
   "outputs": [
    {
     "name": "stdout",
     "output_type": "stream",
     "text": [
      "weight => [0. 0.] bias => -0.1\n",
      "weight => [0.  0.1] bias => 0.0\n",
      "weight => [0.  0.1] bias => 0.0\n",
      "weight => [0.  0.1] bias => 0.0\n",
      "weight => [0.  0.1] bias => -0.1\n",
      "weight => [0.  0.1] bias => -0.1\n",
      "weight => [0.1 0.1] bias => 0.0\n",
      "weight => [0.1 0.1] bias => 0.0\n",
      "weight => [0.1 0.1] bias => -0.1\n",
      "weight => [0.1 0.1] bias => -0.1\n",
      "weight => [0.1 0.1] bias => -0.1\n",
      "weight => [0.1 0.1] bias => -0.1\n"
     ]
    }
   ],
   "source": [
    "for i in range (epoch):\n",
    "    for j in range (len(x)):\n",
    "        # dot product for finding weighted sum value \n",
    "        val = np.dot(weight , x[j]) + bias  \n",
    "        # total sum >= 0 then 1 otherwise 0\n",
    "        if val >= 0 :\n",
    "            prediction = 1\n",
    "        else : prediction = 0\n",
    "\n",
    "        # now find error target - actual \n",
    "        error = y[j] - prediction\n",
    "        # weight update with learning rate  , x[j] , error \n",
    "        weight +=  learningRate * x[j] * error\n",
    "        # bias found error * lr \n",
    "        bias += error * learningRate  \n",
    "        print (f\"weight => {weight} bias => {bias}\")"
   ]
  },
  {
   "cell_type": "code",
   "execution_count": 39,
   "id": "785465e3",
   "metadata": {},
   "outputs": [
    {
     "name": "stdout",
     "output_type": "stream",
     "text": [
      "x[i] => 0\n",
      "x[i] => 1\n",
      "x[i] => 1\n",
      "x[i] => 1\n"
     ]
    }
   ],
   "source": [
    "# after getting fully updated weight matrix we find dot product to getting total sum  \n",
    "for i in range (len (x)):\n",
    "    val = np.dot (x[i] , weight) + bias \n",
    "    if val >= 0  :\n",
    "        prediction = 1\n",
    "    else : prediction = 0\n",
    "\n",
    "    print (f\"x[i] => {prediction}\")"
   ]
  },
  {
   "cell_type": "code",
   "execution_count": null,
   "id": "3e6c23d3",
   "metadata": {},
   "outputs": [],
   "source": []
  }
 ],
 "metadata": {
  "kernelspec": {
   "display_name": "Python 3",
   "language": "python",
   "name": "python3"
  },
  "language_info": {
   "codemirror_mode": {
    "name": "ipython",
    "version": 3
   },
   "file_extension": ".py",
   "mimetype": "text/x-python",
   "name": "python",
   "nbconvert_exporter": "python",
   "pygments_lexer": "ipython3",
   "version": "3.13.5"
  }
 },
 "nbformat": 4,
 "nbformat_minor": 5
}
